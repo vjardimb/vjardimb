{
  "nbformat": 4,
  "nbformat_minor": 0,
  "metadata": {
    "colab": {
      "name": "stock_prices_predictions.ipynb",
      "provenance": [],
      "authorship_tag": "ABX9TyMSQ4k84LVaN4EBvGHImJe6",
      "include_colab_link": true
    },
    "kernelspec": {
      "name": "python3",
      "display_name": "Python 3"
    },
    "language_info": {
      "name": "python"
    }
  },
  "cells": [
    {
      "cell_type": "markdown",
      "metadata": {
        "id": "view-in-github",
        "colab_type": "text"
      },
      "source": [
        "<a href=\"https://colab.research.google.com/github/vjardimb/vjardimb/blob/main/LSTM_stock_model.ipynb\" target=\"_parent\"><img src=\"https://colab.research.google.com/assets/colab-badge.svg\" alt=\"Open In Colab\"/></a>"
      ]
    },
    {
      "cell_type": "code",
      "execution_count": 52,
      "metadata": {
        "id": "fq-g-QwnsbUX"
      },
      "outputs": [],
      "source": [
        "# Raw Package\n",
        "import numpy as np\n",
        "import pandas as pd\n",
        "\n",
        "# Visualization Package\n",
        "import matplotlib.pyplot as plt\n",
        "\n",
        "# import preprocessing functions\n",
        "from sklearn.preprocessing import MinMaxScaler\n",
        "from sklearn.metrics import classification_report\n",
        "\n",
        "# import keras library\n",
        "from tensorflow import keras\n",
        "\n",
        "# import Sequential from the keras models module\n",
        "from keras.models import Sequential\n",
        "\n",
        "# import Dense, Dropout, Flatten, Conv2D, MaxPooling2D from the keras layers module\n",
        "from keras.layers import Dense, Dropout, LSTM\n",
        "\n",
        "#Data Source\n",
        "import yfinance as yf"
      ]
    },
    {
      "cell_type": "code",
      "source": [
        "#Interval required 5 minutes\n",
        "data = yf.download(tickers='aapl', period='10y', interval='1d')"
      ],
      "metadata": {
        "colab": {
          "base_uri": "https://localhost:8080/"
        },
        "id": "p8WF5flqtBvJ",
        "outputId": "8e75e7b9-b9d8-4ae6-af5e-71b2266d43cd"
      },
      "execution_count": 53,
      "outputs": [
        {
          "output_type": "stream",
          "name": "stdout",
          "text": [
            "\r[*********************100%***********************]  1 of 1 completed\n"
          ]
        }
      ]
    },
    {
      "cell_type": "code",
      "source": [
        "#Print data\n",
        "data.head()"
      ],
      "metadata": {
        "colab": {
          "base_uri": "https://localhost:8080/",
          "height": 237
        },
        "id": "uS1T1i3Two6i",
        "outputId": "944a2a67-f371-495a-bc4e-4c6f91bf7ef5"
      },
      "execution_count": 54,
      "outputs": [
        {
          "output_type": "execute_result",
          "data": {
            "text/plain": [
              "                 Open       High        Low      Close  Adj Close     Volume\n",
              "Date                                                                        \n",
              "2012-08-15  22.546429  22.642857  22.419643  22.529642  19.319118  257342400\n",
              "2012-08-16  22.543215  22.741428  22.517857  22.726429  19.487867  254534000\n",
              "2012-08-17  22.857143  23.149643  22.814644  23.146786  19.848320  442761200\n",
              "2012-08-20  23.214643  23.755358  23.210714  23.755358  20.370171  613384800\n",
              "2012-08-21  23.957857  24.102858  23.226070  23.430714  20.091787  812719600"
            ],
            "text/html": [
              "\n",
              "  <div id=\"df-850dd625-e71f-4ce9-a001-55592b7a796c\">\n",
              "    <div class=\"colab-df-container\">\n",
              "      <div>\n",
              "<style scoped>\n",
              "    .dataframe tbody tr th:only-of-type {\n",
              "        vertical-align: middle;\n",
              "    }\n",
              "\n",
              "    .dataframe tbody tr th {\n",
              "        vertical-align: top;\n",
              "    }\n",
              "\n",
              "    .dataframe thead th {\n",
              "        text-align: right;\n",
              "    }\n",
              "</style>\n",
              "<table border=\"1\" class=\"dataframe\">\n",
              "  <thead>\n",
              "    <tr style=\"text-align: right;\">\n",
              "      <th></th>\n",
              "      <th>Open</th>\n",
              "      <th>High</th>\n",
              "      <th>Low</th>\n",
              "      <th>Close</th>\n",
              "      <th>Adj Close</th>\n",
              "      <th>Volume</th>\n",
              "    </tr>\n",
              "    <tr>\n",
              "      <th>Date</th>\n",
              "      <th></th>\n",
              "      <th></th>\n",
              "      <th></th>\n",
              "      <th></th>\n",
              "      <th></th>\n",
              "      <th></th>\n",
              "    </tr>\n",
              "  </thead>\n",
              "  <tbody>\n",
              "    <tr>\n",
              "      <th>2012-08-15</th>\n",
              "      <td>22.546429</td>\n",
              "      <td>22.642857</td>\n",
              "      <td>22.419643</td>\n",
              "      <td>22.529642</td>\n",
              "      <td>19.319118</td>\n",
              "      <td>257342400</td>\n",
              "    </tr>\n",
              "    <tr>\n",
              "      <th>2012-08-16</th>\n",
              "      <td>22.543215</td>\n",
              "      <td>22.741428</td>\n",
              "      <td>22.517857</td>\n",
              "      <td>22.726429</td>\n",
              "      <td>19.487867</td>\n",
              "      <td>254534000</td>\n",
              "    </tr>\n",
              "    <tr>\n",
              "      <th>2012-08-17</th>\n",
              "      <td>22.857143</td>\n",
              "      <td>23.149643</td>\n",
              "      <td>22.814644</td>\n",
              "      <td>23.146786</td>\n",
              "      <td>19.848320</td>\n",
              "      <td>442761200</td>\n",
              "    </tr>\n",
              "    <tr>\n",
              "      <th>2012-08-20</th>\n",
              "      <td>23.214643</td>\n",
              "      <td>23.755358</td>\n",
              "      <td>23.210714</td>\n",
              "      <td>23.755358</td>\n",
              "      <td>20.370171</td>\n",
              "      <td>613384800</td>\n",
              "    </tr>\n",
              "    <tr>\n",
              "      <th>2012-08-21</th>\n",
              "      <td>23.957857</td>\n",
              "      <td>24.102858</td>\n",
              "      <td>23.226070</td>\n",
              "      <td>23.430714</td>\n",
              "      <td>20.091787</td>\n",
              "      <td>812719600</td>\n",
              "    </tr>\n",
              "  </tbody>\n",
              "</table>\n",
              "</div>\n",
              "      <button class=\"colab-df-convert\" onclick=\"convertToInteractive('df-850dd625-e71f-4ce9-a001-55592b7a796c')\"\n",
              "              title=\"Convert this dataframe to an interactive table.\"\n",
              "              style=\"display:none;\">\n",
              "        \n",
              "  <svg xmlns=\"http://www.w3.org/2000/svg\" height=\"24px\"viewBox=\"0 0 24 24\"\n",
              "       width=\"24px\">\n",
              "    <path d=\"M0 0h24v24H0V0z\" fill=\"none\"/>\n",
              "    <path d=\"M18.56 5.44l.94 2.06.94-2.06 2.06-.94-2.06-.94-.94-2.06-.94 2.06-2.06.94zm-11 1L8.5 8.5l.94-2.06 2.06-.94-2.06-.94L8.5 2.5l-.94 2.06-2.06.94zm10 10l.94 2.06.94-2.06 2.06-.94-2.06-.94-.94-2.06-.94 2.06-2.06.94z\"/><path d=\"M17.41 7.96l-1.37-1.37c-.4-.4-.92-.59-1.43-.59-.52 0-1.04.2-1.43.59L10.3 9.45l-7.72 7.72c-.78.78-.78 2.05 0 2.83L4 21.41c.39.39.9.59 1.41.59.51 0 1.02-.2 1.41-.59l7.78-7.78 2.81-2.81c.8-.78.8-2.07 0-2.86zM5.41 20L4 18.59l7.72-7.72 1.47 1.35L5.41 20z\"/>\n",
              "  </svg>\n",
              "      </button>\n",
              "      \n",
              "  <style>\n",
              "    .colab-df-container {\n",
              "      display:flex;\n",
              "      flex-wrap:wrap;\n",
              "      gap: 12px;\n",
              "    }\n",
              "\n",
              "    .colab-df-convert {\n",
              "      background-color: #E8F0FE;\n",
              "      border: none;\n",
              "      border-radius: 50%;\n",
              "      cursor: pointer;\n",
              "      display: none;\n",
              "      fill: #1967D2;\n",
              "      height: 32px;\n",
              "      padding: 0 0 0 0;\n",
              "      width: 32px;\n",
              "    }\n",
              "\n",
              "    .colab-df-convert:hover {\n",
              "      background-color: #E2EBFA;\n",
              "      box-shadow: 0px 1px 2px rgba(60, 64, 67, 0.3), 0px 1px 3px 1px rgba(60, 64, 67, 0.15);\n",
              "      fill: #174EA6;\n",
              "    }\n",
              "\n",
              "    [theme=dark] .colab-df-convert {\n",
              "      background-color: #3B4455;\n",
              "      fill: #D2E3FC;\n",
              "    }\n",
              "\n",
              "    [theme=dark] .colab-df-convert:hover {\n",
              "      background-color: #434B5C;\n",
              "      box-shadow: 0px 1px 3px 1px rgba(0, 0, 0, 0.15);\n",
              "      filter: drop-shadow(0px 1px 2px rgba(0, 0, 0, 0.3));\n",
              "      fill: #FFFFFF;\n",
              "    }\n",
              "  </style>\n",
              "\n",
              "      <script>\n",
              "        const buttonEl =\n",
              "          document.querySelector('#df-850dd625-e71f-4ce9-a001-55592b7a796c button.colab-df-convert');\n",
              "        buttonEl.style.display =\n",
              "          google.colab.kernel.accessAllowed ? 'block' : 'none';\n",
              "\n",
              "        async function convertToInteractive(key) {\n",
              "          const element = document.querySelector('#df-850dd625-e71f-4ce9-a001-55592b7a796c');\n",
              "          const dataTable =\n",
              "            await google.colab.kernel.invokeFunction('convertToInteractive',\n",
              "                                                     [key], {});\n",
              "          if (!dataTable) return;\n",
              "\n",
              "          const docLinkHtml = 'Like what you see? Visit the ' +\n",
              "            '<a target=\"_blank\" href=https://colab.research.google.com/notebooks/data_table.ipynb>data table notebook</a>'\n",
              "            + ' to learn more about interactive tables.';\n",
              "          element.innerHTML = '';\n",
              "          dataTable['output_type'] = 'display_data';\n",
              "          await google.colab.output.renderOutput(dataTable, element);\n",
              "          const docLink = document.createElement('div');\n",
              "          docLink.innerHTML = docLinkHtml;\n",
              "          element.appendChild(docLink);\n",
              "        }\n",
              "      </script>\n",
              "    </div>\n",
              "  </div>\n",
              "  "
            ]
          },
          "metadata": {},
          "execution_count": 54
        }
      ]
    },
    {
      "cell_type": "code",
      "source": [
        "# check if there are missing values for each column\n",
        "data.isna().any()"
      ],
      "metadata": {
        "colab": {
          "base_uri": "https://localhost:8080/"
        },
        "id": "pT13dsVyv1Bc",
        "outputId": "5ea300b9-745b-4894-ad51-1718899161b5"
      },
      "execution_count": 55,
      "outputs": [
        {
          "output_type": "execute_result",
          "data": {
            "text/plain": [
              "Open         False\n",
              "High         False\n",
              "Low          False\n",
              "Close        False\n",
              "Adj Close    False\n",
              "Volume       False\n",
              "dtype: bool"
            ]
          },
          "metadata": {},
          "execution_count": 55
        }
      ]
    },
    {
      "cell_type": "code",
      "source": [
        "data[['Close']].plot()"
      ],
      "metadata": {
        "colab": {
          "base_uri": "https://localhost:8080/",
          "height": 287
        },
        "id": "SskDlgsZv70t",
        "outputId": "8ff71d4f-a35c-499f-ca7d-1b37baed87bf"
      },
      "execution_count": 56,
      "outputs": [
        {
          "output_type": "execute_result",
          "data": {
            "text/plain": [
              "<matplotlib.axes._subplots.AxesSubplot at 0x7f991e992c10>"
            ]
          },
          "metadata": {},
          "execution_count": 56
        },
        {
          "output_type": "display_data",
          "data": {
            "text/plain": [
              "<Figure size 432x288 with 1 Axes>"
            ],
            "image/png": "[encoded data removed]"
          },
          "metadata": {
            "needs_background": "light"
          }
        }
      ]
    },
    {
      "cell_type": "code",
      "source": [
        "data.info()"
      ],
      "metadata": {
        "colab": {
          "base_uri": "https://localhost:8080/"
        },
        "id": "ZoasjJCY3N8e",
        "outputId": "ee3a0cea-48fb-4ea6-e718-f7a442e4edbe"
      },
      "execution_count": 57,
      "outputs": [
        {
          "output_type": "stream",
          "name": "stdout",
          "text": [
            "<class 'pandas.core.frame.DataFrame'>\n",
            "DatetimeIndex: 2516 entries, 2012-08-15 to 2022-08-15\n",
            "Data columns (total 6 columns):\n",
            " #   Column     Non-Null Count  Dtype  \n",
            "---  ------     --------------  -----  \n",
            " 0   Open       2516 non-null   float64\n",
            " 1   High       2516 non-null   float64\n",
            " 2   Low        2516 non-null   float64\n",
            " 3   Close      2516 non-null   float64\n",
            " 4   Adj Close  2516 non-null   float64\n",
            " 5   Volume     2516 non-null   int64  \n",
            "dtypes: float64(5), int64(1)\n",
            "memory usage: 137.6 KB\n"
          ]
        }
      ]
    },
    {
      "cell_type": "code",
      "source": [
        "# create a 7 and 80 moving average\n",
        "data['7ma'] = data.rolling(7).mean()['Close']\n",
        "data['60ma'] = data.rolling(60).mean()['Close']\n",
        "\n",
        "# create a target column (1 if next close is higher than current close, else 0)\n",
        "data['target'] = (data['Close'].shift(-1) > data['Close']).astype(int)\n",
        "\n",
        "# drop open, high and low columns\n",
        "data.drop(['Open', 'High', 'Low', 'Adj Close'], axis=1, inplace=True)\n",
        "\n",
        "data = data.dropna()\n",
        "\n",
        "data.head()"
      ],
      "metadata": {
        "colab": {
          "base_uri": "https://localhost:8080/",
          "height": 237
        },
        "id": "1NgYC1b04rdU",
        "outputId": "ef86418b-edb2-4a14-d8c5-ff6e77d2559f"
      },
      "execution_count": 58,
      "outputs": [
        {
          "output_type": "execute_result",
          "data": {
            "text/plain": [
              "                Close     Volume        7ma       60ma  target\n",
              "Date                                                          \n",
              "2012-11-09  19.537857  929913600  20.324592  23.123030       0\n",
              "2012-11-12  19.386786  515802000  20.050561  23.070649       1\n",
              "2012-11-13  19.389286  532949200  19.877602  23.015030       0\n",
              "2012-11-14  19.174286  477170400  19.634030  22.948821       0\n",
              "2012-11-15  18.772142  789910800  19.342041  22.865768       1"
            ],
            "text/html": [
              "\n",
              "  <div id=\"df-6792f074-46c0-44fb-9a3f-55f34dfea00d\">\n",
              "    <div class=\"colab-df-container\">\n",
              "      <div>\n",
              "<style scoped>\n",
              "    .dataframe tbody tr th:only-of-type {\n",
              "        vertical-align: middle;\n",
              "    }\n",
              "\n",
              "    .dataframe tbody tr th {\n",
              "        vertical-align: top;\n",
              "    }\n",
              "\n",
              "    .dataframe thead th {\n",
              "        text-align: right;\n",
              "    }\n",
              "</style>\n",
              "<table border=\"1\" class=\"dataframe\">\n",
              "  <thead>\n",
              "    <tr style=\"text-align: right;\">\n",
              "      <th></th>\n",
              "      <th>Close</th>\n",
              "      <th>Volume</th>\n",
              "      <th>7ma</th>\n",
              "      <th>60ma</th>\n",
              "      <th>target</th>\n",
              "    </tr>\n",
              "    <tr>\n",
              "      <th>Date</th>\n",
              "      <th></th>\n",
              "      <th></th>\n",
              "      <th></th>\n",
              "      <th></th>\n",
              "      <th></th>\n",
              "    </tr>\n",
              "  </thead>\n",
              "  <tbody>\n",
              "    <tr>\n",
              "      <th>2012-11-09</th>\n",
              "      <td>19.537857</td>\n",
              "      <td>929913600</td>\n",
              "      <td>20.324592</td>\n",
              "      <td>23.123030</td>\n",
              "      <td>0</td>\n",
              "    </tr>\n",
              "    <tr>\n",
              "      <th>2012-11-12</th>\n",
              "      <td>19.386786</td>\n",
              "      <td>515802000</td>\n",
              "      <td>20.050561</td>\n",
              "      <td>23.070649</td>\n",
              "      <td>1</td>\n",
              "    </tr>\n",
              "    <tr>\n",
              "      <th>2012-11-13</th>\n",
              "      <td>19.389286</td>\n",
              "      <td>532949200</td>\n",
              "      <td>19.877602</td>\n",
              "      <td>23.015030</td>\n",
              "      <td>0</td>\n",
              "    </tr>\n",
              "    <tr>\n",
              "      <th>2012-11-14</th>\n",
              "      <td>19.174286</td>\n",
              "      <td>477170400</td>\n",
              "      <td>19.634030</td>\n",
              "      <td>22.948821</td>\n",
              "      <td>0</td>\n",
              "    </tr>\n",
              "    <tr>\n",
              "      <th>2012-11-15</th>\n",
              "      <td>18.772142</td>\n",
              "      <td>789910800</td>\n",
              "      <td>19.342041</td>\n",
              "      <td>22.865768</td>\n",
              "      <td>1</td>\n",
              "    </tr>\n",
              "  </tbody>\n",
              "</table>\n",
              "</div>\n",
              "      <button class=\"colab-df-convert\" onclick=\"convertToInteractive('df-6792f074-46c0-44fb-9a3f-55f34dfea00d')\"\n",
              "              title=\"Convert this dataframe to an interactive table.\"\n",
              "              style=\"display:none;\">\n",
              "        \n",
              "  <svg xmlns=\"http://www.w3.org/2000/svg\" height=\"24px\"viewBox=\"0 0 24 24\"\n",
              "       width=\"24px\">\n",
              "    <path d=\"M0 0h24v24H0V0z\" fill=\"none\"/>\n",
              "    <path d=\"M18.56 5.44l.94 2.06.94-2.06 2.06-.94-2.06-.94-.94-2.06-.94 2.06-2.06.94zm-11 1L8.5 8.5l.94-2.06 2.06-.94-2.06-.94L8.5 2.5l-.94 2.06-2.06.94zm10 10l.94 2.06.94-2.06 2.06-.94-2.06-.94-.94-2.06-.94 2.06-2.06.94z\"/><path d=\"M17.41 7.96l-1.37-1.37c-.4-.4-.92-.59-1.43-.59-.52 0-1.04.2-1.43.59L10.3 9.45l-7.72 7.72c-.78.78-.78 2.05 0 2.83L4 21.41c.39.39.9.59 1.41.59.51 0 1.02-.2 1.41-.59l7.78-7.78 2.81-2.81c.8-.78.8-2.07 0-2.86zM5.41 20L4 18.59l7.72-7.72 1.47 1.35L5.41 20z\"/>\n",
              "  </svg>\n",
              "      </button>\n",
              "      \n",
              "  <style>\n",
              "    .colab-df-container {\n",
              "      display:flex;\n",
              "      flex-wrap:wrap;\n",
              "      gap: 12px;\n",
              "    }\n",
              "\n",
              "    .colab-df-convert {\n",
              "      background-color: #E8F0FE;\n",
              "      border: none;\n",
              "      border-radius: 50%;\n",
              "      cursor: pointer;\n",
              "      display: none;\n",
              "      fill: #1967D2;\n",
              "      height: 32px;\n",
              "      padding: 0 0 0 0;\n",
              "      width: 32px;\n",
              "    }\n",
              "\n",
              "    .colab-df-convert:hover {\n",
              "      background-color: #E2EBFA;\n",
              "      box-shadow: 0px 1px 2px rgba(60, 64, 67, 0.3), 0px 1px 3px 1px rgba(60, 64, 67, 0.15);\n",
              "      fill: #174EA6;\n",
              "    }\n",
              "\n",
              "    [theme=dark] .colab-df-convert {\n",
              "      background-color: #3B4455;\n",
              "      fill: #D2E3FC;\n",
              "    }\n",
              "\n",
              "    [theme=dark] .colab-df-convert:hover {\n",
              "      background-color: #434B5C;\n",
              "      box-shadow: 0px 1px 3px 1px rgba(0, 0, 0, 0.15);\n",
              "      filter: drop-shadow(0px 1px 2px rgba(0, 0, 0, 0.3));\n",
              "      fill: #FFFFFF;\n",
              "    }\n",
              "  </style>\n",
              "\n",
              "      <script>\n",
              "        const buttonEl =\n",
              "          document.querySelector('#df-6792f074-46c0-44fb-9a3f-55f34dfea00d button.colab-df-convert');\n",
              "        buttonEl.style.display =\n",
              "          google.colab.kernel.accessAllowed ? 'block' : 'none';\n",
              "\n",
              "        async function convertToInteractive(key) {\n",
              "          const element = document.querySelector('#df-6792f074-46c0-44fb-9a3f-55f34dfea00d');\n",
              "          const dataTable =\n",
              "            await google.colab.kernel.invokeFunction('convertToInteractive',\n",
              "                                                     [key], {});\n",
              "          if (!dataTable) return;\n",
              "\n",
              "          const docLinkHtml = 'Like what you see? Visit the ' +\n",
              "            '<a target=\"_blank\" href=https://colab.research.google.com/notebooks/data_table.ipynb>data table notebook</a>'\n",
              "            + ' to learn more about interactive tables.';\n",
              "          element.innerHTML = '';\n",
              "          dataTable['output_type'] = 'display_data';\n",
              "          await google.colab.output.renderOutput(dataTable, element);\n",
              "          const docLink = document.createElement('div');\n",
              "          docLink.innerHTML = docLinkHtml;\n",
              "          element.appendChild(docLink);\n",
              "        }\n",
              "      </script>\n",
              "    </div>\n",
              "  </div>\n",
              "  "
            ]
          },
          "metadata": {},
          "execution_count": 58
        }
      ]
    },
    {
      "cell_type": "code",
      "source": [
        "# plot chart with the moving averages\n",
        "plt.figure(figsize=[16,6])\n",
        "plt.plot(data['Close'], label='Close')\n",
        "plt.plot(data['7ma'], label='7ma')\n",
        "plt.plot(data['60ma'], label='60ma')\n",
        "plt.legend()\n",
        "plt.title(\"apple's last year prices\")\n",
        "plt.xlabel('date')\n",
        "plt.ylabel('price')\n",
        "plt.show()"
      ],
      "metadata": {
        "colab": {
          "base_uri": "https://localhost:8080/",
          "height": 404
        },
        "id": "FHMyExMJ7MTo",
        "outputId": "d54942d2-8447-4e35-d197-de5850036d78"
      },
      "execution_count": 59,
      "outputs": [
        {
          "output_type": "display_data",
          "data": {
            "text/plain": [
              "<Figure size 1152x432 with 1 Axes>"
            ],
            "image/png": "[encoded data removed]"
          },
          "metadata": {
            "needs_background": "light"
          }
        }
      ]
    },
    {
      "cell_type": "code",
      "source": [
        "# set features' range to [0,1]\n",
        "scaler = MinMaxScaler()\n",
        "data_scaled = scaler.fit_transform(data)"
      ],
      "metadata": {
        "id": "x8mXJjA89m9Z"
      },
      "execution_count": 60,
      "outputs": []
    },
    {
      "cell_type": "code",
      "source": [
        "pd.DataFrame(data_scaled[:,:-1], columns=data.columns.to_list()[:-1]).plot(figsize=[16,6])"
      ],
      "metadata": {
        "colab": {
          "base_uri": "https://localhost:8080/",
          "height": 392
        },
        "id": "mviYHL5a-c6c",
        "outputId": "e636cc80-4aa6-4b33-f1de-fbb336681384"
      },
      "execution_count": 61,
      "outputs": [
        {
          "output_type": "execute_result",
          "data": {
            "text/plain": [
              "<matplotlib.axes._subplots.AxesSubplot at 0x7f991f847c50>"
            ]
          },
          "metadata": {},
          "execution_count": 61
        },
        {
          "output_type": "display_data",
          "data": {
            "text/plain": [
              "<Figure size 1152x432 with 1 Axes>"
            ],
            "image/png": "[encoded data removed]"
          },
          "metadata": {
            "needs_background": "light"
          }
        }
      ]
    },
    {
      "cell_type": "code",
      "source": [
        "X, y = [], []\n",
        "\n",
        "lookback = 60\n",
        "\n",
        "for i in range(lookback, len(data_scaled)):\n",
        "  X.append(data_scaled[i-lookback:i,:-1])\n",
        "  y.append(data_scaled[i,-1])\n",
        "\n",
        "X, y = np.array(X), np.array(y)"
      ],
      "metadata": {
        "id": "hOQbWlqTIfGl"
      },
      "execution_count": 62,
      "outputs": []
    },
    {
      "cell_type": "code",
      "source": [
        "# separete data in training data and test data\n",
        "train_len = int(len(data)*0.8)\n",
        "\n",
        "X_train, y_train = X[0:train_len], y[0:train_len]\n",
        "X_test, y_test = X[train_len:], y[train_len:]"
      ],
      "metadata": {
        "id": "Qb_i2PHUFV4G"
      },
      "execution_count": 63,
      "outputs": []
    },
    {
      "cell_type": "code",
      "source": [
        "X_test.shape, y_test.shape"
      ],
      "metadata": {
        "colab": {
          "base_uri": "https://localhost:8080/"
        },
        "id": "nj59TifmjgYc",
        "outputId": "dcfb5553-f424-4a27-dde3-e494933ee6b0"
      },
      "execution_count": 64,
      "outputs": [
        {
          "output_type": "execute_result",
          "data": {
            "text/plain": [
              "((432, 60, 4), (432,))"
            ]
          },
          "metadata": {},
          "execution_count": 64
        }
      ]
    },
    {
      "cell_type": "code",
      "source": [
        "model = Sequential([\n",
        "    LSTM(50, return_sequences=True, input_shape = (X_train.shape[1], X_train.shape[2])),\n",
        "    Dropout(0.2),\n",
        "    LSTM(50, return_sequences=True),\n",
        "    Dropout(0.2),\n",
        "    LSTM(50, return_sequences=False),\n",
        "    Dropout(0.2),\n",
        "    Dense(1, activation='sigmoid')\n",
        "])\n"
      ],
      "metadata": {
        "id": "rxac4zTkUOyT"
      },
      "execution_count": 74,
      "outputs": []
    },
    {
      "cell_type": "code",
      "source": [
        "model.summary()"
      ],
      "metadata": {
        "colab": {
          "base_uri": "https://localhost:8080/"
        },
        "id": "KSLVrICSbsVU",
        "outputId": "0ef691dd-58f5-49cb-de45-19a91305844f"
      },
      "execution_count": 90,
      "outputs": [
        {
          "output_type": "stream",
          "name": "stdout",
          "text": [
            "Model: \"sequential_3\"\n",
            "_________________________________________________________________\n",
            " Layer (type)                Output Shape              Param #   \n",
            "=================================================================\n",
            " lstm_9 (LSTM)               (None, 60, 50)            11000     \n",
            "                                                                 \n",
            " dropout_9 (Dropout)         (None, 60, 50)            0         \n",
            "                                                                 \n",
            " lstm_10 (LSTM)              (None, 60, 50)            20200     \n",
            "                                                                 \n",
            " dropout_10 (Dropout)        (None, 60, 50)            0         \n",
            "                                                                 \n",
            " lstm_11 (LSTM)              (None, 50)                20200     \n",
            "                                                                 \n",
            " dropout_11 (Dropout)        (None, 50)                0         \n",
            "                                                                 \n",
            " dense_3 (Dense)             (None, 1)                 51        \n",
            "                                                                 \n",
            "=================================================================\n",
            "Total params: 51,451\n",
            "Trainable params: 51,451\n",
            "Non-trainable params: 0\n",
            "_________________________________________________________________\n"
          ]
        }
      ]
    },
    {
      "cell_type": "code",
      "source": [
        "optimizer = keras.optimizers.Adam(lr=0.001)\n",
        "\n",
        "#compile the RNN\n",
        "model.compile(optimizer = optimizer, loss='binary_crossentropy', metrics=['accuracy'])"
      ],
      "metadata": {
        "colab": {
          "base_uri": "https://localhost:8080/"
        },
        "id": "AIWqEACpWlnY",
        "outputId": "c1403512-f866-401b-8396-ac425320ba25"
      },
      "execution_count": 80,
      "outputs": [
        {
          "output_type": "stream",
          "name": "stderr",
          "text": [
            "/usr/local/lib/python3.7/dist-packages/keras/optimizer_v2/adam.py:105: UserWarning: The `lr` argument is deprecated, use `learning_rate` instead.\n",
            "  super(Adam, self).__init__(name, **kwargs)\n"
          ]
        }
      ]
    },
    {
      "cell_type": "code",
      "source": [
        "model.optimizer.learning_rate\n"
      ],
      "metadata": {
        "colab": {
          "base_uri": "https://localhost:8080/"
        },
        "id": "BQ7k1u9JbGCd",
        "outputId": "027bdbe4-3e45-481e-bf4d-db792a33eb3e"
      },
      "execution_count": 81,
      "outputs": [
        {
          "output_type": "execute_result",
          "data": {
            "text/plain": [
              "<tf.Variable 'learning_rate:0' shape=() dtype=float32, numpy=0.001>"
            ]
          },
          "metadata": {},
          "execution_count": 81
        }
      ]
    },
    {
      "cell_type": "code",
      "source": [
        "X_train.shape, y_train.shape"
      ],
      "metadata": {
        "colab": {
          "base_uri": "https://localhost:8080/"
        },
        "id": "jlKBSGDIcLzQ",
        "outputId": "3c2c7642-19e0-4447-b01d-f2e75ab4b9df"
      },
      "execution_count": 82,
      "outputs": [
        {
          "output_type": "execute_result",
          "data": {
            "text/plain": [
              "((1965, 60, 4), (1965,))"
            ]
          },
          "metadata": {},
          "execution_count": 82
        }
      ]
    },
    {
      "cell_type": "code",
      "source": [
        "# fit the RNN to the training set\n",
        "model.fit(X_train, y_train, epochs=100, batch_size=32)"
      ],
      "metadata": {
        "colab": {
          "base_uri": "https://localhost:8080/"
        },
        "id": "Qo07cJJYZ4Ah",
        "outputId": "e104aded-6c3b-40a5-f922-2caebf4eb40c"
      },
      "execution_count": 83,
      "outputs": [
        {
          "output_type": "stream",
          "name": "stdout",
          "text": [
            "Epoch 1/100\n",
            "62/62 [==============================] - 16s 90ms/step - loss: 0.6929 - accuracy: 0.5064\n",
            "Epoch 2/100\n",
            "62/62 [==============================] - 6s 90ms/step - loss: 0.6926 - accuracy: 0.5277\n",
            "Epoch 3/100\n",
            "62/62 [==============================] - 6s 97ms/step - loss: 0.6921 - accuracy: 0.5288\n",
            "Epoch 4/100\n",
            "62/62 [==============================] - 9s 140ms/step - loss: 0.6920 - accuracy: 0.5303\n",
            "Epoch 5/100\n",
            "62/62 [==============================] - 7s 107ms/step - loss: 0.6920 - accuracy: 0.5288\n",
            "Epoch 6/100\n",
            "62/62 [==============================] - 9s 146ms/step - loss: 0.6913 - accuracy: 0.5288\n",
            "Epoch 7/100\n",
            "62/62 [==============================] - 7s 118ms/step - loss: 0.6916 - accuracy: 0.5293\n",
            "Epoch 8/100\n",
            "62/62 [==============================] - 7s 118ms/step - loss: 0.6918 - accuracy: 0.5252\n",
            "Epoch 9/100\n",
            "62/62 [==============================] - 7s 112ms/step - loss: 0.6922 - accuracy: 0.5282\n",
            "Epoch 10/100\n",
            "62/62 [==============================] - 7s 111ms/step - loss: 0.6917 - accuracy: 0.5277\n",
            "Epoch 11/100\n",
            "62/62 [==============================] - 8s 131ms/step - loss: 0.6921 - accuracy: 0.5282\n",
            "Epoch 12/100\n",
            "62/62 [==============================] - 8s 129ms/step - loss: 0.6917 - accuracy: 0.5293\n",
            "Epoch 13/100\n",
            "62/62 [==============================] - 7s 110ms/step - loss: 0.6920 - accuracy: 0.5288\n",
            "Epoch 14/100\n",
            "62/62 [==============================] - 6s 90ms/step - loss: 0.6914 - accuracy: 0.5288\n",
            "Epoch 15/100\n",
            "62/62 [==============================] - 6s 91ms/step - loss: 0.6916 - accuracy: 0.5298\n",
            "Epoch 16/100\n",
            "62/62 [==============================] - 5s 88ms/step - loss: 0.6916 - accuracy: 0.5293\n",
            "Epoch 17/100\n",
            "62/62 [==============================] - 6s 89ms/step - loss: 0.6921 - accuracy: 0.5288\n",
            "Epoch 18/100\n",
            "62/62 [==============================] - 6s 90ms/step - loss: 0.6917 - accuracy: 0.5288\n",
            "Epoch 19/100\n",
            "62/62 [==============================] - 6s 98ms/step - loss: 0.6914 - accuracy: 0.5277\n",
            "Epoch 20/100\n",
            "62/62 [==============================] - 6s 89ms/step - loss: 0.6918 - accuracy: 0.5267\n",
            "Epoch 21/100\n",
            "62/62 [==============================] - 6s 89ms/step - loss: 0.6917 - accuracy: 0.5237\n",
            "Epoch 22/100\n",
            "62/62 [==============================] - 6s 90ms/step - loss: 0.6919 - accuracy: 0.5282\n",
            "Epoch 23/100\n",
            "62/62 [==============================] - 6s 91ms/step - loss: 0.6915 - accuracy: 0.5277\n",
            "Epoch 24/100\n",
            "62/62 [==============================] - 6s 90ms/step - loss: 0.6913 - accuracy: 0.5288\n",
            "Epoch 25/100\n",
            "62/62 [==============================] - 6s 90ms/step - loss: 0.6916 - accuracy: 0.5298\n",
            "Epoch 26/100\n",
            "62/62 [==============================] - 6s 90ms/step - loss: 0.6917 - accuracy: 0.5282\n",
            "Epoch 27/100\n",
            "62/62 [==============================] - 6s 90ms/step - loss: 0.6918 - accuracy: 0.5288\n",
            "Epoch 28/100\n",
            "62/62 [==============================] - 6s 91ms/step - loss: 0.6916 - accuracy: 0.5293\n",
            "Epoch 29/100\n",
            "62/62 [==============================] - 6s 91ms/step - loss: 0.6915 - accuracy: 0.5277\n",
            "Epoch 30/100\n",
            "62/62 [==============================] - 6s 90ms/step - loss: 0.6916 - accuracy: 0.5262\n",
            "Epoch 31/100\n",
            "62/62 [==============================] - 6s 90ms/step - loss: 0.6918 - accuracy: 0.5282\n",
            "Epoch 32/100\n",
            "62/62 [==============================] - 6s 91ms/step - loss: 0.6916 - accuracy: 0.5252\n",
            "Epoch 33/100\n",
            "62/62 [==============================] - 6s 91ms/step - loss: 0.6914 - accuracy: 0.5303\n",
            "Epoch 34/100\n",
            "62/62 [==============================] - 6s 90ms/step - loss: 0.6915 - accuracy: 0.5247\n",
            "Epoch 35/100\n",
            "62/62 [==============================] - 6s 93ms/step - loss: 0.6911 - accuracy: 0.5328\n",
            "Epoch 36/100\n",
            "62/62 [==============================] - 7s 106ms/step - loss: 0.6914 - accuracy: 0.5262\n",
            "Epoch 37/100\n",
            "62/62 [==============================] - 6s 90ms/step - loss: 0.6914 - accuracy: 0.5277\n",
            "Epoch 38/100\n",
            "62/62 [==============================] - 6s 91ms/step - loss: 0.6908 - accuracy: 0.5308\n",
            "Epoch 39/100\n",
            "62/62 [==============================] - 6s 89ms/step - loss: 0.6909 - accuracy: 0.5277\n",
            "Epoch 40/100\n",
            "62/62 [==============================] - 6s 90ms/step - loss: 0.6909 - accuracy: 0.5323\n",
            "Epoch 41/100\n",
            "62/62 [==============================] - 6s 89ms/step - loss: 0.6903 - accuracy: 0.5308\n",
            "Epoch 42/100\n",
            "62/62 [==============================] - 6s 91ms/step - loss: 0.6902 - accuracy: 0.5277\n",
            "Epoch 43/100\n",
            "62/62 [==============================] - 6s 89ms/step - loss: 0.6904 - accuracy: 0.5221\n",
            "Epoch 44/100\n",
            "62/62 [==============================] - 6s 90ms/step - loss: 0.6912 - accuracy: 0.5298\n",
            "Epoch 45/100\n",
            "62/62 [==============================] - 6s 92ms/step - loss: 0.6907 - accuracy: 0.5338\n",
            "Epoch 46/100\n",
            "62/62 [==============================] - 6s 91ms/step - loss: 0.6923 - accuracy: 0.5257\n",
            "Epoch 47/100\n",
            "62/62 [==============================] - 6s 97ms/step - loss: 0.6920 - accuracy: 0.5288\n",
            "Epoch 48/100\n",
            "62/62 [==============================] - 9s 143ms/step - loss: 0.6922 - accuracy: 0.5282\n",
            "Epoch 49/100\n",
            "62/62 [==============================] - 6s 91ms/step - loss: 0.6913 - accuracy: 0.5267\n",
            "Epoch 50/100\n",
            "62/62 [==============================] - 6s 90ms/step - loss: 0.6915 - accuracy: 0.5262\n",
            "Epoch 51/100\n",
            "62/62 [==============================] - 9s 139ms/step - loss: 0.6912 - accuracy: 0.5288\n",
            "Epoch 52/100\n",
            "62/62 [==============================] - 7s 110ms/step - loss: 0.6909 - accuracy: 0.5298\n",
            "Epoch 53/100\n",
            "62/62 [==============================] - 7s 114ms/step - loss: 0.6900 - accuracy: 0.5323\n",
            "Epoch 54/100\n",
            "62/62 [==============================] - 6s 101ms/step - loss: 0.6913 - accuracy: 0.5201\n",
            "Epoch 55/100\n",
            "62/62 [==============================] - 6s 96ms/step - loss: 0.6910 - accuracy: 0.5288\n",
            "Epoch 56/100\n",
            "62/62 [==============================] - 6s 91ms/step - loss: 0.6901 - accuracy: 0.5293\n",
            "Epoch 57/100\n",
            "62/62 [==============================] - 6s 100ms/step - loss: 0.6898 - accuracy: 0.5313\n",
            "Epoch 58/100\n",
            "62/62 [==============================] - 8s 136ms/step - loss: 0.6888 - accuracy: 0.5313\n",
            "Epoch 59/100\n",
            "62/62 [==============================] - 9s 149ms/step - loss: 0.6904 - accuracy: 0.5247\n",
            "Epoch 60/100\n",
            "62/62 [==============================] - 6s 90ms/step - loss: 0.6891 - accuracy: 0.5232\n",
            "Epoch 61/100\n",
            "62/62 [==============================] - 6s 93ms/step - loss: 0.6904 - accuracy: 0.5364\n",
            "Epoch 62/100\n",
            "62/62 [==============================] - 6s 92ms/step - loss: 0.6894 - accuracy: 0.5364\n",
            "Epoch 63/100\n",
            "62/62 [==============================] - 6s 91ms/step - loss: 0.6892 - accuracy: 0.5369\n",
            "Epoch 64/100\n",
            "62/62 [==============================] - 6s 91ms/step - loss: 0.6883 - accuracy: 0.5369\n",
            "Epoch 65/100\n",
            "62/62 [==============================] - 6s 93ms/step - loss: 0.6880 - accuracy: 0.5374\n",
            "Epoch 66/100\n",
            "62/62 [==============================] - 6s 92ms/step - loss: 0.6888 - accuracy: 0.5364\n",
            "Epoch 67/100\n",
            "62/62 [==============================] - 6s 91ms/step - loss: 0.6892 - accuracy: 0.5344\n",
            "Epoch 68/100\n",
            "62/62 [==============================] - 6s 92ms/step - loss: 0.6868 - accuracy: 0.5399\n",
            "Epoch 69/100\n",
            "62/62 [==============================] - 6s 91ms/step - loss: 0.6892 - accuracy: 0.5415\n",
            "Epoch 70/100\n",
            "62/62 [==============================] - 6s 92ms/step - loss: 0.6880 - accuracy: 0.5338\n",
            "Epoch 71/100\n",
            "62/62 [==============================] - 6s 91ms/step - loss: 0.6878 - accuracy: 0.5379\n",
            "Epoch 72/100\n",
            "62/62 [==============================] - 6s 92ms/step - loss: 0.6890 - accuracy: 0.5349\n",
            "Epoch 73/100\n",
            "62/62 [==============================] - 6s 91ms/step - loss: 0.6876 - accuracy: 0.5318\n",
            "Epoch 74/100\n",
            "62/62 [==============================] - 6s 92ms/step - loss: 0.6875 - accuracy: 0.5384\n",
            "Epoch 75/100\n",
            "62/62 [==============================] - 6s 91ms/step - loss: 0.6879 - accuracy: 0.5344\n",
            "Epoch 76/100\n",
            "62/62 [==============================] - 6s 92ms/step - loss: 0.6873 - accuracy: 0.5379\n",
            "Epoch 77/100\n",
            "62/62 [==============================] - 9s 139ms/step - loss: 0.6875 - accuracy: 0.5425\n",
            "Epoch 78/100\n",
            "62/62 [==============================] - 6s 93ms/step - loss: 0.6866 - accuracy: 0.5354\n",
            "Epoch 79/100\n",
            "62/62 [==============================] - 6s 92ms/step - loss: 0.6879 - accuracy: 0.5389\n",
            "Epoch 80/100\n",
            "62/62 [==============================] - 6s 90ms/step - loss: 0.6867 - accuracy: 0.5379\n",
            "Epoch 81/100\n",
            "62/62 [==============================] - 6s 91ms/step - loss: 0.6868 - accuracy: 0.5399\n",
            "Epoch 82/100\n",
            "62/62 [==============================] - 6s 91ms/step - loss: 0.6862 - accuracy: 0.5379\n",
            "Epoch 83/100\n",
            "62/62 [==============================] - 6s 93ms/step - loss: 0.6875 - accuracy: 0.5354\n",
            "Epoch 84/100\n",
            "62/62 [==============================] - 10s 160ms/step - loss: 0.6870 - accuracy: 0.5410\n",
            "Epoch 85/100\n",
            "62/62 [==============================] - 8s 134ms/step - loss: 0.6869 - accuracy: 0.5364\n",
            "Epoch 86/100\n",
            "62/62 [==============================] - 7s 106ms/step - loss: 0.6860 - accuracy: 0.5410\n",
            "Epoch 87/100\n",
            "62/62 [==============================] - 8s 124ms/step - loss: 0.6870 - accuracy: 0.5374\n",
            "Epoch 88/100\n",
            "62/62 [==============================] - 7s 116ms/step - loss: 0.6888 - accuracy: 0.5359\n",
            "Epoch 89/100\n",
            "62/62 [==============================] - 8s 123ms/step - loss: 0.6868 - accuracy: 0.5349\n",
            "Epoch 90/100\n",
            "62/62 [==============================] - 6s 99ms/step - loss: 0.6866 - accuracy: 0.5466\n",
            "Epoch 91/100\n",
            "62/62 [==============================] - 6s 92ms/step - loss: 0.6852 - accuracy: 0.5461\n",
            "Epoch 92/100\n",
            "62/62 [==============================] - 6s 92ms/step - loss: 0.6851 - accuracy: 0.5445\n",
            "Epoch 93/100\n",
            "62/62 [==============================] - 6s 92ms/step - loss: 0.6856 - accuracy: 0.5374\n",
            "Epoch 94/100\n",
            "62/62 [==============================] - 6s 92ms/step - loss: 0.6851 - accuracy: 0.5491\n",
            "Epoch 95/100\n",
            "62/62 [==============================] - 6s 104ms/step - loss: 0.6868 - accuracy: 0.5420\n",
            "Epoch 96/100\n",
            "62/62 [==============================] - 8s 136ms/step - loss: 0.6838 - accuracy: 0.5399\n",
            "Epoch 97/100\n",
            "62/62 [==============================] - 12s 195ms/step - loss: 0.6854 - accuracy: 0.5491\n",
            "Epoch 98/100\n",
            "62/62 [==============================] - 6s 104ms/step - loss: 0.6833 - accuracy: 0.5420\n",
            "Epoch 99/100\n",
            "62/62 [==============================] - 11s 175ms/step - loss: 0.6831 - accuracy: 0.5496\n",
            "Epoch 100/100\n",
            "62/62 [==============================] - 8s 125ms/step - loss: 0.6845 - accuracy: 0.5506\n"
          ]
        },
        {
          "output_type": "execute_result",
          "data": {
            "text/plain": [
              "<keras.callbacks.History at 0x7f9928788bd0>"
            ]
          },
          "metadata": {},
          "execution_count": 83
        }
      ]
    },
    {
      "cell_type": "code",
      "source": [
        "test_sample = X_train[:1]\n",
        "\n",
        "def get_precision(model, X_test, y_test, threshold):\n",
        "  predictions = []\n",
        "\n",
        "  for i in X_test:\n",
        "    i = np.reshape(i, (1,i.shape[0], i.shape[1]))\n",
        "    predicted = model.predict(i)\n",
        "    predictions.append(int(predicted > threshold))\n",
        "  results = pd.DataFrame({\"predictions\": predictions, \"targets\": y_test})\n",
        "  results = results[results['predictions']==1]\n",
        "  return len(results[results['predictions']==results['targets']])/len(results)\n"
      ],
      "metadata": {
        "id": "0A5Sp2ilgINk"
      },
      "execution_count": 127,
      "outputs": []
    },
    {
      "cell_type": "code",
      "source": [
        "# model.predict(X_test[:])\n",
        "X_test[:1].shape\n",
        "precision = get_precision(model, X_test, y_test, 0.55\n",
        "                          )"
      ],
      "metadata": {
        "id": "RWWB1lBKuayV"
      },
      "execution_count": 131,
      "outputs": []
    },
    {
      "cell_type": "code",
      "source": [
        "precision"
      ],
      "metadata": {
        "colab": {
          "base_uri": "https://localhost:8080/"
        },
        "id": "-VQbRxnvp1Ro",
        "outputId": "77fa39fc-3dd0-42eb-8e87-fd93432df974"
      },
      "execution_count": 132,
      "outputs": [
        {
          "output_type": "execute_result",
          "data": {
            "text/plain": [
              "0.5240384615384616"
            ]
          },
          "metadata": {},
          "execution_count": 132
        }
      ]
    },
    {
      "cell_type": "code",
      "source": [
        "precision"
      ],
      "metadata": {
        "id": "0hwfxoN_04AU"
      },
      "execution_count": null,
      "outputs": []
    }
  ]
}